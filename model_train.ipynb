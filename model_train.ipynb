{
 "cells": [
  {
   "cell_type": "markdown",
   "metadata": {},
   "source": [
    "# <center>Đồ án 3: Linear Regression</center>"
   ]
  },
  {
   "cell_type": "markdown",
   "metadata": {},
   "source": [
    "# Thông tin sinh viên\n",
    "\n",
    "- Họ và tên: Phan Nguyễn Phước Nguyên\n",
    "- MSSV: 20127577\n",
    "- Lớp: 20CLC11"
   ]
  },
  {
   "cell_type": "markdown",
   "metadata": {},
   "source": [
    "# Import"
   ]
  },
  {
   "cell_type": "code",
   "execution_count": 639,
   "metadata": {},
   "outputs": [],
   "source": [
    "import pandas as pd\n",
    "import numpy as np\n",
    "\n",
    "# Import thêm dữ thư viện nếu cần"
   ]
  },
  {
   "cell_type": "markdown",
   "metadata": {},
   "source": [
    "# Đọc dữ liệu"
   ]
  },
  {
   "cell_type": "code",
   "execution_count": 640,
   "metadata": {},
   "outputs": [],
   "source": [
    "# Đọc dữ liệu bằng pandas\n",
    "train = pd.read_csv('train.csv')\n",
    "test = pd.read_csv('test.csv')\n",
    "# Lấy các đặc trưng X và giá trị mục tiêu y cho các tập huấn luyện (train) và kiểm tra (test)\n",
    "X_train = train.iloc[:, :-1]    # Dataframe (chứa 10 đặc trưng huấn luyện)\n",
    "y_train = train.iloc[:, -1]     # Series    (chứa 1 giá trị mục tiêu kiểm tra)\n",
    "\n",
    "X_test = test.iloc[:, :-1]      # Dataframe (chứa 10 đặc trưng kiểm tra)\n",
    "y_test = test.iloc[:, -1]       # Series    (chứa 1 giá trị mục tiêu kiểm tra)\n"
   ]
  },
  {
   "cell_type": "markdown",
   "metadata": {},
   "source": [
    "# Cài đặt hàm"
   ]
  },
  {
   "cell_type": "code",
   "execution_count": 641,
   "metadata": {},
   "outputs": [],
   "source": [
    "# Cài đặt các hàm cần thiết ở đây\n",
    "class OLSLinearRegression:\n",
    "    def fit(self, X, y):\n",
    "        X_pinv = np.linalg.inv(X.T @ X) @ X.T    # np.linalg.pinv(X)\n",
    "        self.w = X_pinv @ y\n",
    "        return self   \n",
    "    def get_params(self):\n",
    "        return self.w\n",
    "    def predict(self, X):\n",
    "        return np.sum(self.w.ravel() * X, axis=1)   "
   ]
  },
  {
   "cell_type": "markdown",
   "metadata": {},
   "source": [
    "# Yêu cầu 1a: Sử dụng toàn bộ 10 đặc trưng đề bài cung cấp (2 điểm) "
   ]
  },
  {
   "cell_type": "code",
   "execution_count": 642,
   "metadata": {},
   "outputs": [],
   "source": [
    "# Phần code cho yêu cầu 1a\n",
    "lr = OLSLinearRegression().fit(X_train, y_train)\n",
    "y_predict = lr.predict(X_test)"
   ]
  },
  {
   "cell_type": "code",
   "execution_count": 643,
   "metadata": {},
   "outputs": [],
   "source": [
    "# Gọi hàm RMSE (tự cài đặt hoặc từ thư viện) trên tập kiểm tra\n",
    "def rmse(predictions, targets):\n",
    "    return np.sqrt(((predictions - targets) ** 2).mean())\n",
    "rms = rmse(y_predict,y_test)"
   ]
  },
  {
   "cell_type": "markdown",
   "metadata": {},
   "source": [
    "Công thức hồi quy\n",
    "\n",
    "$$\\text{Life expectancy} =  𝛽0 + 𝛽1x1 + ⋯ + 𝛽10𝑥10 + 𝜀$$"
   ]
  },
  {
   "cell_type": "markdown",
   "metadata": {},
   "source": [
    "# Yêu cầu 1b: Xây dựng mô hình sử dụng duy nhất 1 đặc trưng, tìm mô hình cho kết quả tốt nhất (2 điểm)"
   ]
  },
  {
   "cell_type": "markdown",
   "metadata": {},
   "source": [
    "Lưu ý: khi sử dụng cross-validation, sinh viên cần xáo trộn dữ liệu 1 lần duy nhất và thực hiện trên toàn bộ đặc trưng"
   ]
  },
  {
   "cell_type": "code",
   "execution_count": 644,
   "metadata": {},
   "outputs": [
    {
     "name": "stdout",
     "output_type": "stream",
     "text": [
      "STT   Mô hình với 1 đặc trưng             RMSE\n",
      "1     Adult Mortality                     45.62493038094085\n",
      "2     BMI                                 26.21729921152169\n",
      "3     Polio                               17.98546983493596\n",
      "4     Diphtheria                          15.553270331802272\n",
      "5     HIV/AIDS                            69.02769971532624\n",
      "6     GDP                                 59.711600292023334\n",
      "7     Thinness age 10-19                  53.44080927591617\n",
      "8     Thinness age 5-9                    52.90478883918289\n",
      "9     Income composition of resources     9.463088664795228\n",
      "10    Schooling                           10.26194576513432\n",
      "Đặc trưng tốt nhất: Income composition of resources : 9.463088664795228\n"
     ]
    }
   ],
   "source": [
    "# Phần code cho yêu cầu 1b\n",
    "from sklearn.model_selection import KFold\n",
    "\n",
    "# train/test tren 5fold va tra ve gia tri tb cua 5 lan \n",
    "def rmse_mean_cal(model, X, X_test, y, kfold):\n",
    "    # tinh rmse tung fold\n",
    "    rms = 0\n",
    "    for train_ids, val_ids in kfold.split(X, y):\n",
    "        model.fit(X[train_ids], y[train_ids])\n",
    "        y_predict = model.predict(X_test)\n",
    "        rms = rms + rmse(y_predict,y_test)\n",
    "    #lay trung binh\n",
    "    return rms/5    \n",
    "\n",
    "# concat phan train va test lai \n",
    "X = np.concatenate((X_train, X_test), axis=0)\n",
    "y = np.concatenate((y_train, y_test), axis=0)\n",
    "\n",
    "# chia thanh 5 fold\n",
    "kfold = KFold(n_splits=5,random_state=1, shuffle=True)\n",
    "\n",
    "# In ra các kết quả cross-validation như yêu cầu\n",
    "best_idx = 0\n",
    "temp = 100\n",
    "best_rms = 0\n",
    "for i in range(0,10):\n",
    "    if(i==0):\n",
    "        print('{0: <5}'.format(\"STT\"), '{0: <35}'.format(\"Mô hình với 1 đặc trưng\"), \"RMSE\")\n",
    "    col = [i]\n",
    "    X1_train = train.iloc[:,col].to_numpy()\n",
    "    X1_test = test.iloc[:,col].to_numpy()\n",
    "    y1_train = y_train.to_numpy()\n",
    "    rms = rmse_mean_cal(OLSLinearRegression(), X1_train, X1_test, y1_train, kfold)\n",
    "    if(rms < temp):\n",
    "        best_idx = i\n",
    "        temp = rms\n",
    "        best_rms = rms\n",
    "    print('{0: <5}'.format(i+1), '{0: <35}'.format(train.columns[i]), rms)\n",
    "    \n",
    "\n",
    "# Tìm ra đặc trưng tốt nhất\n",
    "print(\"Đặc trưng tốt nhất:\", train.columns[best_idx],\":\", best_rms)\n"
   ]
  },
  {
   "cell_type": "code",
   "execution_count": 645,
   "metadata": {},
   "outputs": [],
   "source": [
    "# Huấn luyện lại mô hình best_feature_model với đặc trưng tốt nhất trên toàn bộ tập huấn luyện\n",
    "X1_train = train.iloc[:,[best_idx]].to_numpy()\n",
    "X1_test = test.iloc[:,[best_idx]].to_numpy()\n",
    "\n",
    "lr.fit(X1_train, y_train) \n",
    "y_predict = lr.predict(X1_test)"
   ]
  },
  {
   "cell_type": "code",
   "execution_count": 646,
   "metadata": {},
   "outputs": [
    {
     "data": {
      "text/plain": [
       "9.462641625274049"
      ]
     },
     "execution_count": 646,
     "metadata": {},
     "output_type": "execute_result"
    }
   ],
   "source": [
    "# Gọi hàm RMSE (tự cài đặt hoặc từ thư viện) trên tập kiểm tra với mô hình best_feature_model\n",
    "rms = rmse(y_predict, y_test)\n",
    "rms"
   ]
  },
  {
   "cell_type": "markdown",
   "metadata": {},
   "source": [
    "Công thức hồi quy\n",
    "\n",
    "$$\\text{Life expectancy} = 𝛽0 + 𝛽9x9 + 𝜀$$"
   ]
  },
  {
   "cell_type": "markdown",
   "metadata": {},
   "source": [
    "# Yêu cầu 1c: Sinh viên tự xây dựng mô hình, tìm mô hình cho kết quả tốt nhất (3 điểm)"
   ]
  },
  {
   "cell_type": "markdown",
   "metadata": {},
   "source": [
    "Lưu ý: khi sử dụng cross-validation, sinh viên cần xáo trộn dữ liệu 1 lần duy nhất và thực hiện trên toàn bộ $m$ mô hình mà sinh viên thiết kế"
   ]
  },
  {
   "cell_type": "code",
   "execution_count": 647,
   "metadata": {},
   "outputs": [
    {
     "name": "stdout",
     "output_type": "stream",
     "text": [
      "STT   Mô hình                             RMSE\n",
      "1     Sử dụng 3 đặc trưng [0, 5, 6]       4.694664532385423\n",
      "2     Sử dụng 1 đặc trưng [10]            4.532574940459634\n",
      "3     Sử dụng 5 đặc trưng [0, 5, 6, 8, 11] 3.4382270440505067\n"
     ]
    }
   ],
   "source": [
    "# Phần code cho yêu cầu 1c\n",
    "from sklearn.linear_model import LinearRegression\n",
    "from sklearn.preprocessing import StandardScaler\n",
    "\n",
    "# Tìm ra mô hình tốt nhất (tự thiết kế bởi sinh viên)\n",
    "\n",
    "# chuan hoa (standardize)\n",
    "X2_train = X_train\n",
    "X2_test = X_test\n",
    "scale= StandardScaler()\n",
    "X2_train = scale.fit_transform(X2_train) \n",
    "X2_test = scale.fit_transform(X2_test) \n",
    "\n",
    "# convert back to df\n",
    "X2_train = pd.DataFrame(X2_train, columns = X_train.columns)\n",
    "X2_test = pd.DataFrame(X2_test, columns = X_train.columns)\n",
    "X_train['NewCol10'] = (X2_train['Income composition of resources'] + X2_train['Schooling']) \n",
    "X_test['NewCol10'] = (X2_test['Income composition of resources'] + X2_test['Schooling']) \n",
    "\n",
    "X_train['NewCol11'] = (0.5 * X2_train['GDP'] + X2_train['Schooling']) \n",
    "X_test['NewCol11'] = (0.5 * X2_test['GDP'] + X2_test['Schooling']) \n",
    "\n",
    "#lay ngau nhien 3 feature 0,5,6\n",
    "model1 = [0, 5, 6] \n",
    "#tao 1 feature moi (NewCol10) bang tong 2 feature Income composition of resources va Schooling (sau khi chuan hoa)\n",
    "model2 = [10]    \n",
    "#tao 1 feature moi (NewCol11) bang tong 2 feature 0.5GDP va Schooling\n",
    "#sau do ket hop voi cac feature tu model 1\n",
    "model3 = [0, 5, 6, 8, 11]       \n",
    "models = [model1, model2, model3]\n",
    "\n",
    "\n",
    "# In ra các kết quả cross-validation như yêu cầu\n",
    "for i in range(0, len(models)):\n",
    "    if(i==0):\n",
    "        print('{0: <5}'.format(\"STT\"), '{0: <35}'.format(\"Mô hình\"), \"RMSE\")\n",
    "    col = models[i]\n",
    "    X2_train = X_train.iloc[:,col].to_numpy()\n",
    "    X2_test = X_test.iloc[:,col].to_numpy()\n",
    "    y1_train = y_train.to_numpy()\n",
    "    rms = rmse_mean_cal(LinearRegression(), X2_train, X2_test, y1_train, kfold)\n",
    "    if(rms < temp):\n",
    "        best_idx = i\n",
    "        temp = rms\n",
    "        best_rms = rms\n",
    "    text = \"Sử dụng \"+ str(len(models[i])) + \" đặc trưng \" + str(col)\n",
    "    print('{0: <5}'.format(i+1), '{0: <35}'.format(text), rms)\n",
    "    \n",
    "\n"
   ]
  },
  {
   "cell_type": "code",
   "execution_count": 648,
   "metadata": {},
   "outputs": [],
   "source": [
    "# Huấn luyện lại mô hình my_best_model trên toàn bộ tập huấn luyện\n",
    "my_best_model = model3\n",
    "X2_train = X_train.iloc[:,my_best_model].to_numpy()\n",
    "X2_test = X_test.iloc[:,my_best_model].to_numpy()\n",
    "\n",
    "lr.fit(X2_train, y_train) \n",
    "y_predict = lr.predict(X2_test)"
   ]
  },
  {
   "cell_type": "code",
   "execution_count": 649,
   "metadata": {},
   "outputs": [
    {
     "data": {
      "text/plain": [
       "4.972446615817532"
      ]
     },
     "execution_count": 649,
     "metadata": {},
     "output_type": "execute_result"
    }
   ],
   "source": [
    "# Gọi hàm RMSE (tự cài đặt hoặc từ thư viện) trên tập kiểm tra với mô hình my_best_model\n",
    "rms = rmse(y_predict, y_test)\n",
    "rms"
   ]
  },
  {
   "cell_type": "markdown",
   "metadata": {},
   "source": [
    "Công thức hồi quy\n",
    "\n",
    "$$\\text{Life expectancy} = 𝛽0 + 𝛽1x1 + 𝛽5x5 +𝛽6x6 +𝛽8x8 + 𝛽11𝑥11 + 𝜀$$"
   ]
  }
 ],
 "metadata": {
  "kernelspec": {
   "display_name": "Python 3 (ipykernel)",
   "language": "python",
   "name": "python3"
  },
  "language_info": {
   "codemirror_mode": {
    "name": "ipython",
    "version": 3
   },
   "file_extension": ".py",
   "mimetype": "text/x-python",
   "name": "python",
   "nbconvert_exporter": "python",
   "pygments_lexer": "ipython3",
   "version": "3.9.12"
  },
  "vscode": {
   "interpreter": {
    "hash": "15af99fd1a1a3f0a3416ea421564e792a8676a13670c2eed127d89ab0518a27b"
   }
  }
 },
 "nbformat": 4,
 "nbformat_minor": 2
}
